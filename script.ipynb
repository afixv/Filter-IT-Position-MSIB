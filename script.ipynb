{
 "cells": [
  {
   "cell_type": "code",
   "execution_count": 3,
   "metadata": {},
   "outputs": [
    {
     "name": "stdout",
     "output_type": "stream",
     "text": [
      "Found 1129 IT opportunities.\n"
     ]
    }
   ],
   "source": [
    "import requests\n",
    "import pandas as pd\n",
    "from datetime import datetime\n",
    "import re\n",
    "\n",
    "# API Magang Kampus Merdeka\n",
    "api_url = \"https://api.kampusmerdeka.kemdikbud.go.id/magang/browse/opportunities\"\n",
    "\n",
    "def get_data_from_api(url):\n",
    "    response = requests.get(url)\n",
    "    if response.status_code == 200:\n",
    "        return response.json()\n",
    "    else:\n",
    "        response.raise_for_status()\n",
    "\n",
    "def filter_it_opportunities(data):\n",
    "    it_keywords = [\n",
    "        'IT', 'Information Technology', 'Software', 'Developer', 'Programmer', 'Engineer',\n",
    "        'Teknologi Informasi', 'Web', 'Data', 'Database', 'Cyber', 'Security', 'Network',\n",
    "        'Cloud', 'System', 'Application', 'App', 'AI', 'Artificial Intelligence', 'Machine Learning', 'ML',\n",
    "        'DevOps', 'Blockchain', 'Full Stack', 'Frontend', 'Backend', 'QA', 'Quality Assurance', 'UX', 'UI',\n",
    "        'Technology', 'Coding', 'Programming'\n",
    "    ]\n",
    "\n",
    "    # Create a regex pattern that matches any of the keywords\n",
    "    pattern = re.compile(r'\\b(' + '|'.join(it_keywords) + r')\\b', re.IGNORECASE)\n",
    "\n",
    "    # Create a regex pattern that matches any of the keywords except \"engineer\"\n",
    "    non_engineer_keywords = [kw for kw in it_keywords if kw.lower() != 'engineer']\n",
    "    non_engineer_pattern = re.compile(r'\\b(' + '|'.join(non_engineer_keywords) + r')\\b', re.IGNORECASE)\n",
    "\n",
    "    it_opportunities = []\n",
    "\n",
    "    for item in data:\n",
    "        if item.get('opportunity_type', '').upper() == 'MSIB':\n",
    "            name = item.get('name', '').lower()\n",
    "            if pattern.search(name):\n",
    "                opportunity_link = f\"https://kampusmerdeka.kemdikbud.go.id/program/magang/browse/{item.get('mitra_id', '')}/{item.get('id', '')}\"\n",
    "                # Check that engineer must contain other keyword to avoid non-IT engineer opportunities (e.g. civil engineer, mechanical engineer, etc.)\n",
    "                if 'engineer' in name:\n",
    "                    if non_engineer_pattern.search(name):\n",
    "                        it_opportunities.append({\n",
    "                            'name': item.get('name', ''),\n",
    "                            'mitra_brand_name': item.get('mitra_brand_name', ''),\n",
    "                            'location': item.get('location', ''),\n",
    "                            'link': opportunity_link\n",
    "                        })\n",
    "                else:\n",
    "                    it_opportunities.append({\n",
    "                        'name': item.get('name', ''),\n",
    "                        'mitra_brand_name': item.get('mitra_brand_name', ''),\n",
    "                        'location': item.get('location', ''),\n",
    "                        'link': opportunity_link\n",
    "                    })\n",
    "\n",
    "\n",
    "    return it_opportunities\n",
    "\n",
    "data = get_data_from_api(api_url)\n",
    "\n",
    "it_opportunities = filter_it_opportunities(data['data']) \n",
    "\n",
    "now = datetime.now()\n",
    "timestamp = now.strftime(\"%Y-%m-%d\")\n",
    "filename = f'MSIB_IT_updated_at_{timestamp}.xlsx'\n",
    "\n",
    "df = pd.DataFrame(it_opportunities)\n",
    "df.to_excel(filename, index=False)\n",
    "df.to_csv(filename.replace('xlsx', 'csv'), index=False)\n",
    "\n",
    "print(f\"Found {len(it_opportunities)} IT opportunities.\")\n"
   ]
  }
 ],
 "metadata": {
  "kernelspec": {
   "display_name": "Python 3",
   "language": "python",
   "name": "python3"
  },
  "language_info": {
   "codemirror_mode": {
    "name": "ipython",
    "version": 3
   },
   "file_extension": ".py",
   "mimetype": "text/x-python",
   "name": "python",
   "nbconvert_exporter": "python",
   "pygments_lexer": "ipython3",
   "version": "3.12.2"
  }
 },
 "nbformat": 4,
 "nbformat_minor": 2
}
